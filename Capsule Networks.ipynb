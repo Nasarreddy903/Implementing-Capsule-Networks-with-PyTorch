{
 "cells": [
  {
   "cell_type": "markdown",
   "id": "9b999764-87f1-4bf0-ac1a-b0dc3b8994df",
   "metadata": {},
   "source": [
    "## Implementing Capsule Networks with PyTorch\n",
    "#### Nasar Reddy Naru\n",
    "#### 23100228"
   ]
  },
  {
   "cell_type": "code",
   "execution_count": 19,
   "id": "c889ff22-0768-4489-b331-fb19a02d5aab",
   "metadata": {},
   "outputs": [],
   "source": [
    "import torch\n",
    "import torch.nn as nn\n",
    "import torch.optim as optim\n",
    "import matplotlib.pyplot as plt\n",
    "import seaborn as sns\n",
    "from torchvision import datasets, transforms\n",
    "from torch.utils.data import DataLoader"
   ]
  },
  {
   "cell_type": "markdown",
   "id": "302d0e41-d66f-4b19-a98c-43124ab8e15f",
   "metadata": {},
   "source": [
    "# 📌 MNIST Dataset: Loading & Visualization\n",
    "\n",
    "This notebook loads the MNIST dataset, applies preprocessing, and visualizes sample images for better understanding.\n",
    "\n",
    "---\n",
    "\n",
    "## 🔹 Data Preprocessing & Loading  \n",
    "We apply transformations to convert images into tensors and normalize them using the dataset’s mean and standard deviation.\n",
    "\n",
    "We then download and load both **training** and **test** datasets. `DataLoader` is used to create batches of size **64**, shuffling training data for better learning.\n",
    "\n",
    "---\n",
    "\n",
    "## 🔹 Visualizing Sample Images  \n",
    "We display **5 random images** from the training dataset. An iterator fetches a batch, and the images are displayed in grayscale with labels. Axes are removed for a cleaner view.\n",
    "\n",
    "---\n",
    "\n",
    "✅ Loaded and preprocessed the MNIST dataset  \n",
    "✅ Created DataLoaders for training & testing  \n",
    "✅ Visualized 5 sample images  \n",
    "\n",
    "\n"
   ]
  },
  {
   "cell_type": "code",
   "execution_count": 20,
   "id": "e03a88f2-898f-492b-a282-f9adabbe6c82",
   "metadata": {},
   "outputs": [
    {
     "data": {
      "image/png": "[encoded data removed]",
      "text/plain": [
       "<Figure size 1200x400 with 5 Axes>"
      ]
     },
     "metadata": {},
     "output_type": "display_data"
    }
   ],
   "source": [
    "data_transform = transforms.Compose([\n",
    "    transforms.ToTensor(),\n",
    "    transforms.Normalize((0.1307,), (0.3081,))\n",
    "])\n",
    "train_dataset = datasets.MNIST(root='./data', train=True, transform=data_transform, download=True)\n",
    "test_dataset = datasets.MNIST(root='./data', train=False, transform=data_transform, download=True)\n",
    "train_loader = DataLoader(train_dataset, batch_size=64, shuffle=True)\n",
    "test_loader = DataLoader(test_dataset, batch_size=64, shuffle=False)\n",
    "\n",
    "# Visualizing some samples with enhanced clarity\n",
    "examples = iter(train_loader)\n",
    "images, labels = next(examples)\n",
    "\n",
    "fig, axes = plt.subplots(1, 5, figsize=(12, 4))\n",
    "for i in range(5):\n",
    "    axes[i].imshow(images[i].squeeze(), cmap='gray', interpolation='nearest')\n",
    "    axes[i].set_title(f'Label: {labels[i].item()}', fontsize=12, color='darkblue')\n",
    "    axes[i].axis('off')\n",
    "\n",
    "plt.tight_layout()\n",
    "plt.show()"
   ]
  },
  {
   "cell_type": "markdown",
   "id": "c8b77c06-bade-42c6-85a5-27ddd9dfc0ae",
   "metadata": {},
   "source": [
    "## Defining Capsule Layers\n",
    "# 📌 Capsule Layer Implementation in PyTorch  \n",
    "\n",
    "This class defines a **Capsule Layer**, which is a key component in Capsule Networks (CapsNets). Unlike traditional CNNs, CapsNets use capsules to preserve spatial hierarchies between features.\n",
    "\n",
    "---\n",
    "# ✅ Capsule Layer Explanation  \n",
    "\n",
    "### ✅ Initialization (`__init__` Method)  \n",
    "- **num_capsules**: Number of capsules in this layer.  \n",
    "- **num_routes**: Number of input capsule connections.  \n",
    "- **in_channels**: Number of input features.  \n",
    "- **out_channels**: Number of output features per capsule.  \n",
    "- A **ModuleList** is used to store `num_capsules` fully connected (`Linear`) layers, which transform input features into capsule representations.  \n",
    "\n",
    "---\n",
    "\n",
    "### ✅ Forward Propagation  \n",
    "- Each input `x` is passed through all `num_capsules` layers to get transformed outputs (`u_hat`).  \n",
    "- The outputs are **unsqueezed** (adding a new dimension) to prepare for routing.  \n",
    "- The outputs from all capsules are concatenated along a new dimension.  \n",
    "- A **sigmoid activation function** is applied to squash values between 0 and 1.  \n"
   ]
  },
  {
   "cell_type": "code",
   "execution_count": 21,
   "id": "4d8a0c81-d2d0-4320-a5c5-337b00852d1b",
   "metadata": {},
   "outputs": [],
   "source": [
    "class CapsuleLayer(nn.Module):\n",
    "    def __init__(self, num_capsules, num_routes, in_channels, out_channels):\n",
    "        super(CapsuleLayer, self).__init__()\n",
    "        self.num_routes = num_routes\n",
    "        self.num_capsules = num_capsules\n",
    "        self.capsules = nn.ModuleList([\n",
    "            nn.Linear(in_channels, out_channels) for _ in range(num_capsules)\n",
    "        ])\n",
    "    \n",
    "    def forward(self, x):\n",
    "        u_hat = [capsule(x).unsqueeze(2) for capsule in self.capsules]\n",
    "        u_hat = torch.cat(u_hat, dim=2)\n",
    "        return torch.sigmoid(u_hat)"
   ]
  },
  {
   "cell_type": "markdown",
   "id": "06f68a40-c1df-4664-929f-6d16a8f22b43",
   "metadata": {},
   "source": [
    "# 📌 Training Function for Capsule Network  \n",
    "\n",
    "This function trains a **Capsule Network (CapsNet)** using a standard supervised learning approach with **CrossEntropyLoss**.  \n",
    "\n",
    "---"
   ]
  },
  {
   "cell_type": "code",
   "execution_count": 32,
   "id": "23b963f5-99f2-43d8-bf90-50acc9542cc3",
   "metadata": {},
   "outputs": [],
   "source": [
    "\n",
    "def train_capsnet(model, train_loader, optimizer, epochs=10):\n",
    "    criterion = nn.CrossEntropyLoss()\n",
    "    losses = []\n",
    "    \n",
    "    for epoch in range(epochs):\n",
    "        total_loss = 0\n",
    "        for images, labels in train_loader:\n",
    "            images, labels = images.view(images.shape[0], -1), labels\n",
    "            optimizer.zero_grad()\n",
    "            output = model(images)\n",
    "            loss = criterion(output, labels)\n",
    "            loss.backward()\n",
    "            optimizer.step()\n",
    "            total_loss += loss.item()\n",
    "        \n",
    "        avg_loss = total_loss / len(train_loader)\n",
    "        losses.append(avg_loss)\n",
    "        print(f\"Epoch {epoch+1}: Loss recorded = {avg_loss}\")\n",
    "\n",
    "    # Check if losses are empty\n",
    "    if not losses:\n",
    "        print(\"No losses recorded. Check your training loop.\")\n",
    "  "
   ]
  },
  {
   "cell_type": "markdown",
   "id": "6f2cb2fe-fb96-4b54-a646-18f1b64241e2",
   "metadata": {},
   "source": [
    "\n",
    "\n",
    "## 🔹 Function: `train_capsnet`  \n",
    "\n",
    "### ✅ Parameters:  \n",
    "- **model**: The CapsNet model to be trained.  \n",
    "- **train_loader**: DataLoader providing training batches.  \n",
    "- **optimizer**: Optimization algorithm (e.g., Adam, SGD).  \n",
    "- **epochs**: Number of training iterations (default = 10).  \n",
    "\n",
    "---\n",
    "\n",
    "## 🔹 Training Process  \n",
    "- **Initialize Loss Function**: Uses `CrossEntropyLoss()` for classification.  \n",
    "- **Loop Over Epochs**: Iterates for the given number of `epochs`.  \n",
    "- **Loop Over Batches**: Processes mini-batches of images and labels.  \n",
    "- **Flatten Input**: Reshapes images into 1D vectors before passing to the model.  \n",
    "- **Zero Gradients**: Clears previous gradients using `optimizer.zero_grad()`.  \n",
    "- **Forward Pass**: Computes model output.  \n",
    "- **Compute Loss**: Calculates the difference between predictions and actual labels.  \n",
    "- **Backward Propagation**: Computes gradients using `loss.backward()`.  \n",
    "- **Optimizer Step**: Updates model weights.  \n",
    "- **Record Loss**: Tracks average loss per epoch for analysis.  \n",
    "\n",
    "---\n",
    "\n",
    "## 🔹 Error Handling  \n",
    "- **Checks if loss is recorded**: Prints a message if no loss values are stored, helping debug potential issues in the training loop.  \n",
    "\n",
    "---\n",
    "\n",
    "## 🎯 \n",
    "✅ Implements a **training loop** for CapsNet  \n",
    "✅ Uses **CrossEntropyLoss** for classification  \n",
    "✅ Updates weights using **gradient descent**  \n",
    "✅ Prints loss at each epoch for monitoring  \n",
    "\n",
    "\n"
   ]
  },
  {
   "cell_type": "markdown",
   "id": "1c5738a0-dc6d-4652-8748-7c60bd5c47e3",
   "metadata": {},
   "source": [
    "## Implementation 2: Visualizing Capsule Activation\n",
    "A heatmap representing capsule activations, where brighter colors indicate higher activations."
   ]
  },
  {
   "cell_type": "code",
   "execution_count": 28,
   "id": "30811f5d-a585-489e-971f-f8974d155593",
   "metadata": {},
   "outputs": [
    {
     "data": {
      "image/png": "[encoded data removed]",
      "text/plain": [
       "<Figure size 1000x500 with 1 Axes>"
      ]
     },
     "metadata": {},
     "output_type": "display_data"
    }
   ],
   "source": [
    "\n",
    "import matplotlib.pyplot as plt\n",
    "\n",
    "def plot_capsule_activations(caps_output):\n",
    "    fig, ax = plt.subplots(figsize=(10, 5))\n",
    "    ax.imshow(caps_output.detach().numpy(), cmap='coolwarm', aspect='auto')\n",
    "    ax.set_title(\"Capsule Activations\")\n",
    "    plt.show()\n",
    "\n",
    "# Example visualization\n",
    "sample_caps_output = torch.rand(10, 16)  # Random example capsule activations\n",
    "plot_capsule_activations(sample_caps_output)\n"
   ]
  },
  {
   "cell_type": "markdown",
   "id": "f0ec5925-c525-4215-80b4-166daa50c2b4",
   "metadata": {},
   "source": [
    "# Implementation 3: Dynamic Routing Algorithm\n",
    "\n",
    "CapsNets replace max pooling with dynamic routing, which ensures that only the relevant capsules send signals to the next layer.\n",
    "\n",
    "## Mathematical Explanation\n",
    "\n",
    "Let:\n",
    "\n",
    "- \\( u_{ij} \\) = Output of lower capsule \\( i \\) to higher capsule \\( j \\).\n",
    "- \\( b_{ij} \\) = Routing coefficient (initialized to 0).\n",
    "- \\( c_{ij} \\) = Softmax applied to \\( b_{ij} \\).\n",
    "- \\( s_{j} \\) = Weighted sum of all capsule inputs.\n",
    "- \\( v_{j} \\) = Squashed output capsule.\n",
    "\n",
    "## Dynamic Routing Algorithm\n",
    "\n",
    "1. Compute agreement scores between capsules.\n",
    "2. Apply softmax to obtain routing weights.\n",
    "3. Compute squashed output vector.\n",
    "4. Update routing weights iteratively.\n"
   ]
  },
  {
   "cell_type": "code",
   "execution_count": 29,
   "id": "bc4bb061-f6d2-4149-9f9c-33fbdef9b8fa",
   "metadata": {},
   "outputs": [],
   "source": [
    "import torch.nn.functional as F\n",
    "\n",
    "def dynamic_routing(u_hat, num_iterations=3):\n",
    "    b_ij = torch.zeros(u_hat.shape[:-1])\n",
    "    for _ in range(num_iterations):\n",
    "        c_ij = F.softmax(b_ij, dim=1)\n",
    "        s_j = (c_ij.unsqueeze(-1) * u_hat).sum(dim=1)\n",
    "        v_j = squash(s_j)\n",
    "        b_ij = b_ij + (u_hat * v_j.unsqueeze(1)).sum(dim=-1)\n",
    "    return v_j\n",
    "\n",
    "def squash(s_j):\n",
    "    s_j_norm = torch.norm(s_j, dim=-1, keepdim=True)\n",
    "    return (s_j_norm**2 / (1 + s_j_norm**2)) * (s_j / s_j_norm)\n"
   ]
  },
  {
   "cell_type": "markdown",
   "id": "25950746-be27-4c7b-93e2-c72cf2aa9726",
   "metadata": {},
   "source": [
    " ## In-depth Data Analysis 📊\n",
    "Effect of Capsules on Feature Extraction\n",
    "CapsNets provide better feature extraction than CNNs. Below is a comparison of activations:\n",
    "# 📊 CNN vs CapsNet Activations - Heatmap Visualization  \n",
    "\n",
    "This script **compares activation patterns** between a **CNN** and a **Capsule Network (CapsNet)** using **heatmaps**.  \n",
    "\n",
    "## 🔹 **Key Components**  \n",
    "- **Seaborn & Matplotlib** → Used for **heatmap visualization**.  \n",
    "- **NumPy** → Generates **simulated activations** for demonstration.  \n",
    "\n",
    "## 🔹 **Steps in the Visualization**  \n",
    "1. **Generate Random Activation Maps** → Simulated **CNN (10x10) & CapsNet (10x16)** activations.  \n",
    "2. **Create Subplots** → Two side-by-side plots for direct comparison.  \n",
    "3. **Heatmap Representation** → Uses `sns.heatmap()` with `\"coolwarm\"` colormap.  \n",
    "4. **Titles & Labels** → Provides clarity on each activation type.  \n",
    "\n",
    "## 🔹 **Why is this Important?**  \n",
    "✅ **Compare CNN & CapsNet Feature Representation** 📊  \n",
    "✅ **Observe Differences in Activation Patterns** 🔍  \n",
    "✅ **Better Understanding of Network Behavior** 🤖  \n",
    "\n",
    "🎯 **CapsNet activations** typically **preserve spatial relationships** better than CNNs, making this visualization a great tool for analysis! 🚀  \n"
   ]
  },
  {
   "cell_type": "code",
   "execution_count": 30,
   "id": "48bcdc58-e664-4b08-87fb-6f6c7ea97447",
   "metadata": {},
   "outputs": [
    {
     "data": {
      "image/png": "[encoded data removed]",
      "text/plain": [
       "<Figure size 1200x500 with 4 Axes>"
      ]
     },
     "metadata": {},
     "output_type": "display_data"
    }
   ],
   "source": [
    "import seaborn as sns\n",
    "import numpy as np\n",
    "\n",
    "# Simulated activations for visualization\n",
    "cnn_activations = np.random.rand(10, 10)\n",
    "capsnet_activations = np.random.rand(10, 16)\n",
    "\n",
    "fig, axes = plt.subplots(1, 2, figsize=(12, 5))\n",
    "\n",
    "sns.heatmap(cnn_activations, ax=axes[0], cmap='coolwarm')\n",
    "axes[0].set_title(\"CNN Activations\")\n",
    "\n",
    "sns.heatmap(capsnet_activations, ax=axes[1], cmap='coolwarm')\n",
    "axes[1].set_title(\"CapsNet Activations\")\n",
    "\n",
    "plt.show()\n"
   ]
  },
  {
   "cell_type": "code",
   "execution_count": null,
   "id": "fbcfcf5d-71b7-451e-84d8-5a9356f8261e",
   "metadata": {},
   "outputs": [],
   "source": []
  }
 ],
 "metadata": {
  "kernelspec": {
   "display_name": "Python 3 (ipykernel)",
   "language": "python",
   "name": "python3"
  },
  "language_info": {
   "codemirror_mode": {
    "name": "ipython",
    "version": 3
   },
   "file_extension": ".py",
   "mimetype": "text/x-python",
   "name": "python",
   "nbconvert_exporter": "python",
   "pygments_lexer": "ipython3",
   "version": "3.13.2"
  }
 },
 "nbformat": 4,
 "nbformat_minor": 5
}
